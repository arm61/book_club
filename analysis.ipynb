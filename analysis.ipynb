{
 "cells": [
  {
   "cell_type": "code",
   "execution_count": 1,
   "metadata": {
    "collapsed": true
   },
   "outputs": [],
   "source": [
    "%matplotlib inline\n",
    "import numpy as np\n",
    "import pandas as pd\n",
    "import matplotlib.pyplot as plt\n",
    "import warnings\n",
    "warnings.filterwarnings(\"ignore\")"
   ]
  },
  {
   "cell_type": "code",
   "execution_count": 2,
   "metadata": {
    "collapsed": true
   },
   "outputs": [],
   "source": [
    "info = pd.read_csv('info.csv')"
   ]
  },
  {
   "cell_type": "code",
   "execution_count": 3,
   "metadata": {},
   "outputs": [
    {
     "name": "stdout",
     "output_type": "stream",
     "text": [
      "                           Book  Year             Author  Nationality     Sex  \\\n",
      "0                   Hotel World  2001          Ali Smith     Scotland  Female   \n",
      "1             Things Fall Apart  1958      Chinua Achebe      Nigeria    Male   \n",
      "2                    Dispatches  1977       Michael Herr          USA    Male   \n",
      "3                    Siddhartha  1951      Hermann Hesse      Germany    Male   \n",
      "4                     What Ends  2014        Andrew Ladd     Scotland    Male   \n",
      "5     Our Friends from Frolix 8  1970     Philip K. Dick          USA    Male   \n",
      "6           The Living Mountain  1977       Nan Shephard     Scotland  Female   \n",
      "7                    Wise Blood  1952  Flannery O'Connor          USA  Female   \n",
      "8                The Vegetarian  2007           Han Kang  South Korea  Female   \n",
      "9   A Visit from the Goon Squad  2010      Jennifer Egan          USA  Female   \n",
      "10      Confessions of a Yakuza  1989       Junichi Saga        Japan    Male   \n",
      "11     Between the World and Me  2015   Ta-Nehisi Coates          USA    Male   \n",
      "\n",
      "       Who  \n",
      "0     Neil  \n",
      "1     Gary  \n",
      "2    David  \n",
      "3   Stuart  \n",
      "4     Drew  \n",
      "5      Sam  \n",
      "6     Iain  \n",
      "7    David  \n",
      "8     Drew  \n",
      "9     Neil  \n",
      "10     Sam  \n",
      "11    Gary  \n"
     ]
    }
   ],
   "source": [
    "print(info)"
   ]
  },
  {
   "cell_type": "code",
   "execution_count": 4,
   "metadata": {},
   "outputs": [
    {
     "data": {
      "text/plain": [
       "<matplotlib.text.Text at 0x7f1a384e62b0>"
      ]
     },
     "execution_count": 4,
     "metadata": {},
     "output_type": "execute_result"
    },
    {
     "data": {
      "image/png": "[encoded data removed]",
      "text/plain": [
       "<matplotlib.figure.Figure at 0x7f1a40520860>"
      ]
     },
     "metadata": {},
     "output_type": "display_data"
    }
   ],
   "source": [
    "(np.floor(info['Year']/10)*10).hist(bins=6)\n",
    "plt.xlabel('year')\n",
    "plt.ylabel('frequency')"
   ]
  },
  {
   "cell_type": "code",
   "execution_count": 5,
   "metadata": {},
   "outputs": [
    {
     "data": {
      "text/plain": [
       "<matplotlib.text.Text at 0x7f1a383ff828>"
      ]
     },
     "execution_count": 5,
     "metadata": {},
     "output_type": "execute_result"
    },
    {
     "data": {
      "image/png": "[encoded data removed]",
      "text/plain": [
       "<matplotlib.figure.Figure at 0x7f1a38404518>"
      ]
     },
     "metadata": {},
     "output_type": "display_data"
    }
   ],
   "source": [
    "a = pd.DataFrame(info['Nationality'])\n",
    "a.apply(pd.value_counts).plot(kind='bar')\n",
    "plt.xlabel('author nationality')\n",
    "plt.ylabel('frequency')"
   ]
  },
  {
   "cell_type": "code",
   "execution_count": 6,
   "metadata": {},
   "outputs": [
    {
     "data": {
      "text/plain": [
       "<matplotlib.text.Text at 0x7f1a382d0320>"
      ]
     },
     "execution_count": 6,
     "metadata": {},
     "output_type": "execute_result"
    },
    {
     "data": {
      "image/png": "[encoded data removed]",
      "text/plain": [
       "<matplotlib.figure.Figure at 0x7f1a38329908>"
      ]
     },
     "metadata": {},
     "output_type": "display_data"
    }
   ],
   "source": [
    "a = pd.DataFrame(info['Sex'])\n",
    "a.apply(pd.value_counts).plot(kind='bar')\n",
    "plt.xlabel('sex')\n",
    "plt.ylabel('frequency')"
   ]
  },
  {
   "cell_type": "code",
   "execution_count": null,
   "metadata": {
    "collapsed": true
   },
   "outputs": [],
   "source": []
  }
 ],
 "metadata": {
  "kernelspec": {
   "display_name": "Python 3",
   "language": "python",
   "name": "python3"
  },
  "language_info": {
   "codemirror_mode": {
    "name": "ipython",
    "version": 3
   },
   "file_extension": ".py",
   "mimetype": "text/x-python",
   "name": "python",
   "nbconvert_exporter": "python",
   "pygments_lexer": "ipython3",
   "version": "3.6.2"
  }
 },
 "nbformat": 4,
 "nbformat_minor": 2
}
