{
 "cells": [
  {
   "cell_type": "code",
   "execution_count": 1,
   "metadata": {
    "collapsed": true
   },
   "outputs": [],
   "source": [
    "%matplotlib inline\n",
    "import numpy as np\n",
    "import pandas as pd\n",
    "import matplotlib.pyplot as plt\n",
    "import warnings\n",
    "warnings.filterwarnings(\"ignore\")"
   ]
  },
  {
   "cell_type": "code",
   "execution_count": 2,
   "metadata": {
    "collapsed": true
   },
   "outputs": [],
   "source": [
    "info = pd.read_csv('info.csv')"
   ]
  },
  {
   "cell_type": "code",
   "execution_count": 3,
   "metadata": {},
   "outputs": [
    {
     "name": "stdout",
     "output_type": "stream",
     "text": [
      "                              Book  Year             Author  Nationality  \\\n",
      "0                      Hotel World  2001          Ali Smith     Scotland   \n",
      "1                Things Fall Apart  1958      Chinua Achebe      Nigeria   \n",
      "2                       Dispatches  1977       Michael Herr          USA   \n",
      "3                       Siddhartha  1951      Hermann Hesse      Germany   \n",
      "4                        What Ends  2014        Andrew Ladd     Scotland   \n",
      "5        Our Friends from Frolix 8  1970     Philip K. Dick          USA   \n",
      "6              The Living Mountain  1977       Nan Shephard     Scotland   \n",
      "7                       Wise Blood  1952  Flannery O'Connor          USA   \n",
      "8                   The Vegetarian  2007           Han Kang  South Korea   \n",
      "9      A Visit from the Goon Squad  2010      Jennifer Egan          USA   \n",
      "10         Confessions of a Yakuza  1989       Junichi Saga        Japan   \n",
      "11        Between the World and Me  2015   Ta-Nehisi Coates          USA   \n",
      "12                        Bird Box  2014      Josh Malerman          USA   \n",
      "13                 Beyond Survival  1990      Gerald Coffee          USA   \n",
      "14      Conversations with Friends  2017       Sally Rooney      Ireland   \n",
      "15            Anything Is Possible  2017   Elizabeth Strout          USA   \n",
      "16                    Among Others  2011          Jo Walton        Wales   \n",
      "17  My Year of Rest and Relaxation  2018   Ottessa Moshfegh          USA   \n",
      "\n",
      "       Sex     Who  \n",
      "0   Female    Neil  \n",
      "1     Male    Gary  \n",
      "2     Male   David  \n",
      "3     Male  Stuart  \n",
      "4     Male    Drew  \n",
      "5     Male     Sam  \n",
      "6   Female    Iain  \n",
      "7   Female   David  \n",
      "8   Female    Drew  \n",
      "9   Female    Neil  \n",
      "10    Male     Sam  \n",
      "11    Male    Gary  \n",
      "12    Male    Iain  \n",
      "13    Male  Stuart  \n",
      "14  Female    Neil  \n",
      "15  Female    Drew  \n",
      "16  Female    Gary  \n",
      "17  Female   David  \n"
     ]
    }
   ],
   "source": [
    "print(info)"
   ]
  },
  {
   "cell_type": "code",
   "execution_count": 4,
   "metadata": {},
   "outputs": [
    {
     "data": {
      "text/plain": [
       "Text(0,0.5,'frequency')"
      ]
     },
     "execution_count": 4,
     "metadata": {},
     "output_type": "execute_result"
    },
    {
     "data": {
      "image/png": "[encoded data removed]",
      "text/plain": [
       "<matplotlib.figure.Figure at 0x106d13710>"
      ]
     },
     "metadata": {},
     "output_type": "display_data"
    }
   ],
   "source": [
    "plt.hist(info['Year'], bins=np.arange(1950, 2025, 5))\n",
    "plt.xlabel('year')\n",
    "plt.ylabel('frequency')"
   ]
  },
  {
   "cell_type": "code",
   "execution_count": 5,
   "metadata": {},
   "outputs": [
    {
     "data": {
      "text/plain": [
       "<bound method hist_series of 0     2001\n",
       "1     1958\n",
       "2     1977\n",
       "3     1951\n",
       "4     2014\n",
       "5     1970\n",
       "6     1977\n",
       "7     1952\n",
       "8     2007\n",
       "9     2010\n",
       "10    1989\n",
       "11    2015\n",
       "12    2014\n",
       "13    1990\n",
       "14    2017\n",
       "15    2017\n",
       "16    2011\n",
       "17    2018\n",
       "Name: Year, dtype: int64>"
      ]
     },
     "execution_count": 5,
     "metadata": {},
     "output_type": "execute_result"
    }
   ],
   "source": [
    "info['Year'].hist"
   ]
  },
  {
   "cell_type": "code",
   "execution_count": 6,
   "metadata": {},
   "outputs": [
    {
     "data": {
      "text/plain": [
       "Text(0,0.5,'frequency')"
      ]
     },
     "execution_count": 6,
     "metadata": {},
     "output_type": "execute_result"
    },
    {
     "data": {
      "image/png": "[encoded data removed]",
      "text/plain": [
       "<matplotlib.figure.Figure at 0x106d13550>"
      ]
     },
     "metadata": {},
     "output_type": "display_data"
    }
   ],
   "source": [
    "a = pd.DataFrame(info['Nationality'])\n",
    "a.apply(pd.value_counts).plot(kind='bar')\n",
    "plt.xlabel('author nationality')\n",
    "plt.ylabel('frequency')"
   ]
  },
  {
   "cell_type": "code",
   "execution_count": 7,
   "metadata": {},
   "outputs": [
    {
     "data": {
      "text/plain": [
       "Text(0,0.5,'frequency')"
      ]
     },
     "execution_count": 7,
     "metadata": {},
     "output_type": "execute_result"
    },
    {
     "data": {
      "image/png": "[encoded data removed]",
      "text/plain": [
       "<matplotlib.figure.Figure at 0x1129348d0>"
      ]
     },
     "metadata": {},
     "output_type": "display_data"
    }
   ],
   "source": [
    "a = pd.DataFrame(info['Sex'])\n",
    "a.apply(pd.value_counts).plot(kind='bar')\n",
    "plt.xlabel('sex')\n",
    "plt.ylabel('frequency')"
   ]
  },
  {
   "cell_type": "code",
   "execution_count": null,
   "metadata": {
    "collapsed": true
   },
   "outputs": [],
   "source": []
  },
  {
   "cell_type": "code",
   "execution_count": null,
   "metadata": {
    "collapsed": true
   },
   "outputs": [],
   "source": []
  }
 ],
 "metadata": {
  "kernelspec": {
   "display_name": "Python 3",
   "language": "python",
   "name": "python3"
  },
  "language_info": {
   "codemirror_mode": {
    "name": "ipython",
    "version": 3
   },
   "file_extension": ".py",
   "mimetype": "text/x-python",
   "name": "python",
   "nbconvert_exporter": "python",
   "pygments_lexer": "ipython3",
   "version": "3.6.3"
  },
  "latex_envs": {
   "LaTeX_envs_menu_present": true,
   "autoclose": false,
   "autocomplete": true,
   "bibliofile": "biblio.bib",
   "cite_by": "apalike",
   "current_citInitial": 1,
   "eqLabelWithNumbers": true,
   "eqNumInitial": 1,
   "hotkeys": {
    "equation": "Ctrl-E",
    "itemize": "Ctrl-I"
   },
   "labels_anchors": false,
   "latex_user_defs": false,
   "report_style_numbering": false,
   "user_envs_cfg": false
  }
 },
 "nbformat": 4,
 "nbformat_minor": 2
}
